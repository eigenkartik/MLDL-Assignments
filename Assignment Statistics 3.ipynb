{
 "cells": [
  {
   "cell_type": "markdown",
   "metadata": {},
   "source": [
    "**Problem Statement 1**\n",
    "\n",
    "Blood glucose levels for obese patients have a mean of 100 with a standard deviation of 15. A researcher thinks that a diet high in raw cornstarch will have a positive effect on blood glucose levels. A sample of 36 patients who have tried the raw cornstarch diet have a mean glucose level of 108. Test the hypothesis that the raw cornstarch had an effect or not."
   ]
  },
  {
   "cell_type": "code",
   "execution_count": 1,
   "metadata": {},
   "outputs": [
    {
     "name": "stdout",
     "output_type": "stream",
     "text": [
      "p values for the test is 0.0006871379379158604\n",
      "As p-values is less than the level of significance i.e. 0.01. We will reject Null Hypothesis.\n",
      "The raw cornstarch diet had an effect.\n"
     ]
    }
   ],
   "source": [
    "#H0: The raw cornstarch diet didn't have an effect.\n",
    "#H1: The raw cornstarch diet had an effect.\n",
    "from scipy.stats import norm\n",
    "population_mean=100\n",
    "std=15\n",
    "n=36\n",
    "sample_mean=108\n",
    "p=1-norm.cdf(108,100,15/(n**0.5))\n",
    "print('p values for the test is',p)\n",
    "#consider alpha value of 0.01\n",
    "print('As p-values is less than the level of significance i.e. 0.01. We will reject Null Hypothesis.')\n",
    "print('The raw cornstarch diet had an effect.')"
   ]
  },
  {
   "cell_type": "markdown",
   "metadata": {},
   "source": [
    "**Problrem Statement 2**\n",
    "\n",
    "In one state, 52% of the voters are Republicans, and 48% are Democrats. In a second state, 47% of the voters are Republicans, and 53% are Democrats. Suppose a simple random sample of 100 voters are surveyed from each state.\n",
    "\n",
    "What is the probability that the survey will show a greater percentage of Republican voters in the second state than in the first state?"
   ]
  },
  {
   "cell_type": "code",
   "execution_count": 2,
   "metadata": {},
   "outputs": [
    {
     "name": "stdout",
     "output_type": "stream",
     "text": [
      "z score for the proportion to be negative -0.7080278164104213\n",
      "Probability that the survey will show a greater percentage of Republican voters in the second state than in the first state is  0.22\n"
     ]
    }
   ],
   "source": [
    "n1=n2 = 100\n",
    "R1 = 0.52            #Republicans from state 1\n",
    "D1 = 0.48            #Democrats from state 1\n",
    "R2 = 0.47            #Republicans from state 2\n",
    "D2 = 0.53            #Democrats from state 2\n",
    "# The sample difference and standard deviation in the proportion of Republicans in both states is:\n",
    "\n",
    "p=R1-R2\n",
    "\n",
    "Sp=(((R1*(1-R1))/n1)+ ((R2*(1-R2))/n2))**0.5\n",
    "\n",
    "# To have a greater percentage of Republican voters in the second state than in the first state, \n",
    "# the difference should be less than zero i.e. R1-R2<0\n",
    "# To find this probability, we need to transform the random variable (R1 - R2) into a z-score. \n",
    "x=0\n",
    "z= (x-p)/Sp\n",
    "print('z score for the proportion to be negative',z)\n",
    "\n",
    "#From Z table we find that the probability of a z-score being -0.7082 or less is 0.21770.\n",
    "\n",
    "#Therefore, the probability that the survey will show a greater percentage of Republican voters \n",
    "#in the second state than in the first state is 0.22\n",
    "\n",
    "print('Probability that the survey will show a greater percentage of Republican voters in the second state than in the first state is ', 0.22)"
   ]
  },
  {
   "cell_type": "markdown",
   "metadata": {},
   "source": [
    "**Problem Statement 3**\n",
    "\n",
    "You take the SAT and score 1100. The mean score for the SAT is 1026 and the standard deviation is 209. How well did you score on the test compared to the average test taker?"
   ]
  },
  {
   "cell_type": "code",
   "execution_count": 3,
   "metadata": {},
   "outputs": [
    {
     "name": "stdout",
     "output_type": "stream",
     "text": [
      "z score for 1100 is 0.35406698564593314\n",
      "confidence interval for 1 std are from 817 to 1235\n"
     ]
    }
   ],
   "source": [
    "x=1100\n",
    "mu=1026\n",
    "std=209\n",
    "p=norm.cdf(1100,1026,209)\n",
    "z=norm.ppf(p)\n",
    "print('z score for 1100 is', z)\n",
    "print(f'confidence interval for 1 std are from {mu-std} to {mu+std}')"
   ]
  }
 ],
 "metadata": {
  "kernelspec": {
   "display_name": "Python 3",
   "language": "python",
   "name": "python3"
  },
  "language_info": {
   "codemirror_mode": {
    "name": "ipython",
    "version": 3
   },
   "file_extension": ".py",
   "mimetype": "text/x-python",
   "name": "python",
   "nbconvert_exporter": "python",
   "pygments_lexer": "ipython3",
   "version": "3.8.5"
  }
 },
 "nbformat": 4,
 "nbformat_minor": 4
}
