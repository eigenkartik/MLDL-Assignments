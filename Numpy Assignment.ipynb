{
 "cells": [
  {
   "cell_type": "markdown",
   "metadata": {},
   "source": [
    "### Problem Statement 1\n",
    "\n",
    "### Write a function so that the columns of the output matrix are powers of the input vector.\n",
    "#### The order of the powers is determined by the increasing boolean argument. Specifically, when increasing is False, the i-th output column is the input vector raised element-wise to the powerof N - i - 1.\n",
    "\n",
    "#### HINT: Such a matrix with a geometric progression in each row is named for Alexandre-Theophile Vandermonde."
   ]
  },
  {
   "cell_type": "code",
   "execution_count": 1,
   "metadata": {},
   "outputs": [],
   "source": [
    "import pandas as pd\n",
    "import numpy as np"
   ]
  },
  {
   "cell_type": "code",
   "execution_count": 2,
   "metadata": {},
   "outputs": [],
   "source": [
    "def vander_matrix(vector, n, increasing=False):\n",
    "    \n",
    "    if not increasing:\n",
    "        op_matx = np.array([x**(n-1-i) for x in vector for i in range(n)]).reshape(vector.size,n)\n",
    "        \n",
    "    elif increasing:\n",
    "        op_matx = np.array([x**i for x in vector for i in range(n)]).reshape(vector.size,n)\n",
    "    \n",
    "    return op_matx\n"
   ]
  },
  {
   "cell_type": "code",
   "execution_count": 3,
   "metadata": {},
   "outputs": [],
   "source": [
    "vector=np.array([1,2,3])"
   ]
  },
  {
   "cell_type": "code",
   "execution_count": 4,
   "metadata": {},
   "outputs": [
    {
     "data": {
      "text/plain": [
       "array([[ 1,  1,  1,  1,  1],\n",
       "       [16,  8,  4,  2,  1],\n",
       "       [81, 27,  9,  3,  1]])"
      ]
     },
     "execution_count": 4,
     "metadata": {},
     "output_type": "execute_result"
    }
   ],
   "source": [
    "vander_matrix(vector,5)\n"
   ]
  },
  {
   "cell_type": "code",
   "execution_count": 5,
   "metadata": {},
   "outputs": [
    {
     "data": {
      "text/plain": [
       "array([[ 1,  1,  1,  1,  1],\n",
       "       [ 1,  2,  4,  8, 16],\n",
       "       [ 1,  3,  9, 27, 81]])"
      ]
     },
     "execution_count": 5,
     "metadata": {},
     "output_type": "execute_result"
    }
   ],
   "source": [
    "vander_matrix(vector,5,True)"
   ]
  },
  {
   "cell_type": "markdown",
   "metadata": {},
   "source": [
    "#### Problem Statement 2:\n",
    "#### Given a sequence of n values x1, x2, ..., xn and a window size k>0, the k-th moving average of the given sequence is defined as follows:\n",
    "#### The moving average sequence has n-k+1 elements as shown below.\n",
    "#### The moving averages with k=4 of a ten-value sequence (n=10) is shown below\n",
    "#### i 1 2 3 4 5 6 7 8 9 10\n",
    "##### ===== == == == == == == == == == ==\n",
    "##### Input 10 20 30 40 50 60 70 80 90 100\n",
    "##### y1 25 = (10+20+30+40)/4\n",
    "#### y2 35 = (20+30+40+50)/4\n",
    "#### y3 45 = (30+40+50+60)/4\n",
    "#### y4 55 = (40+50+60+70)/4\n",
    "#### y5 65 = (50+60+70+80)/4\n",
    "#### y6 75 = (60+70+80+90)/4\n",
    "#### y7 85 = (70+80+90+100)/4\n",
    "#### Thus, the moving average sequence has n-k+1=10-4+1=7 values.\"\"\"\n",
    "\n",
    "#### Question: Write a function to find moving average in an array over a window: Test it over [3, 5, 7, 2, 8, 10, 11, 65, 72, 81, 99, 100, 150] and window of 3."
   ]
  },
  {
   "cell_type": "code",
   "execution_count": 6,
   "metadata": {},
   "outputs": [],
   "source": [
    "def mvg_avg(vector,k):\n",
    "    avg=np.cumsum(vector, dtype=float)\n",
    "    avg[k:]=avg[k:]-avg[:-k]\n",
    "    print(\"Moving average values list:\",avg[k-1:]/k) \n",
    "    print(\"Length of the list l-k+1: \", len(avg[k-1:]/k))"
   ]
  },
  {
   "cell_type": "code",
   "execution_count": 7,
   "metadata": {},
   "outputs": [],
   "source": [
    " a=np.array([3, 5, 7, 2, 8, 10, 11, 65, 72, 81, 99, 100, 150])"
   ]
  },
  {
   "cell_type": "code",
   "execution_count": 8,
   "metadata": {},
   "outputs": [
    {
     "name": "stdout",
     "output_type": "stream",
     "text": [
      "Moving average values list: [  4.25   5.5    6.75   7.75  23.5   39.5   57.25  79.25  88.   107.5 ]\n",
      "Length of the list l-k+1:  10\n"
     ]
    }
   ],
   "source": [
    "mvg_avg(a,4)"
   ]
  },
  {
   "cell_type": "code",
   "execution_count": 9,
   "metadata": {},
   "outputs": [],
   "source": [
    "b=[1,2,3]"
   ]
  },
  {
   "cell_type": "code",
   "execution_count": 10,
   "metadata": {},
   "outputs": [
    {
     "name": "stdout",
     "output_type": "stream",
     "text": [
      "Moving average values list: [2.]\n",
      "Length of the list l-k+1:  1\n"
     ]
    }
   ],
   "source": [
    "mvg_avg(b,3)"
   ]
  },
  {
   "cell_type": "code",
   "execution_count": null,
   "metadata": {},
   "outputs": [],
   "source": []
  }
 ],
 "metadata": {
  "kernelspec": {
   "display_name": "Python 3",
   "language": "python",
   "name": "python3"
  },
  "language_info": {
   "codemirror_mode": {
    "name": "ipython",
    "version": 3
   },
   "file_extension": ".py",
   "mimetype": "text/x-python",
   "name": "python",
   "nbconvert_exporter": "python",
   "pygments_lexer": "ipython3",
   "version": "3.8.5"
  }
 },
 "nbformat": 4,
 "nbformat_minor": 4
}
