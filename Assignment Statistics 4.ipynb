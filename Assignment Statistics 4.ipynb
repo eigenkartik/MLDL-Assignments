{
 "cells": [
  {
   "cell_type": "markdown",
   "metadata": {},
   "source": [
    "**Problem Statement 1**"
   ]
  },
  {
   "cell_type": "code",
   "execution_count": null,
   "metadata": {},
   "outputs": [],
   "source": [
    "\"\"\"\n",
    "Is gender independent of education level? A random sample of 395 people were surveyed and each person was asked to report the highest education level they\n",
    "obtained. The data that resulted from the survey is summarized in the following table:\n",
    "\n",
    "High    School Bachelors Masters Ph.d. Total\n",
    "Female  60     54         46       41   201\n",
    "Male    40     44         53       57   194\n",
    "Total  100     98         99       98   395\n",
    "\n",
    "Question:\n",
    "Are gender and education level dependent at 5% level of significance? In other words, given the data collected above, is there a relationship between the\n",
    "gender of an individual and the level of education that they have obtained?\n",
    "\n",
    "\n",
    "\"\"\""
   ]
  },
  {
   "cell_type": "code",
   "execution_count": 1,
   "metadata": {},
   "outputs": [
    {
     "name": "stdout",
     "output_type": "stream",
     "text": [
      "test statistic is 8.006066246262538 with p value 0.045886500891747214\n",
      "As p -value is less than given level of significance i.e 0.05. We will reject null Hypothesis\n",
      "Gender and education level are dependent.\n"
     ]
    }
   ],
   "source": [
    "from scipy.stats import chi2_contingency\n",
    "#Ho: Gender and education level independent of each other.\n",
    "#H1: Gender and education level are dependent.\n",
    "alpha=0.05\n",
    "obs=([[60,54,46,41],[40,44,53,57]])\n",
    "result=chi2_contingency(obs)\n",
    "print(f'test statistic is {result[0]} with p value {result[1]}')\n",
    "print('As p -value is less than given level of significance i.e 0.05. We will reject null Hypothesis')\n",
    "print('Gender and education level are dependent.')"
   ]
  },
  {
   "cell_type": "markdown",
   "metadata": {},
   "source": [
    "**Problem Statement 2**\n",
    "\n",
    "Using the following data, perform a oneway analysis of variance using α=.05. Write up the results in APA format.\n",
    "\n",
    "[Group1: 51, 45, 33, 45, 67] \n",
    "[Group2: 23, 43, 23, 43, 45]\n",
    "[Group3: 56, 76, 74, 87, 56]"
   ]
  },
  {
   "cell_type": "code",
   "execution_count": 2,
   "metadata": {},
   "outputs": [
    {
     "name": "stdout",
     "output_type": "stream",
     "text": [
      "test statistics is 9.747205503009463 with p-values of 0.0030597541434430556\n",
      "As p -value is less than given level of significance i.e 0.05. We will reject null Hypothesis\n",
      "These group do not have the equal mean\n"
     ]
    }
   ],
   "source": [
    "#H0: these group have the equal group mean. (mu1=mu2=mu3)\n",
    "#H0:these group do not have the equal mean\n",
    "alpha=0.05\n",
    "Group1=[51, 45, 33, 45, 67] \n",
    "Group2=[23, 43, 23, 43, 45]\n",
    "Group3=[56, 76, 74, 87, 56]\n",
    "from scipy.stats import f_oneway\n",
    "result=f_oneway(Group1,Group2,Group3)\n",
    "print(f'test statistics is {result[0]} with p-values of {result[1]}')\n",
    "print('As p -value is less than given level of significance i.e 0.05. We will reject null Hypothesis')\n",
    "print('These group do not have the equal mean')  \n",
    "      "
   ]
  },
  {
   "cell_type": "markdown",
   "metadata": {},
   "source": [
    "**Problem Statement 3**\n",
    "\n",
    "Calculate F Test for given 10, 20, 30, 40, 50 and 5,10,15, 20, 25. For 10, 20, 30, 40, 50:"
   ]
  },
  {
   "cell_type": "code",
   "execution_count": 3,
   "metadata": {},
   "outputs": [
    {
     "name": "stdout",
     "output_type": "stream",
     "text": [
      "F test for given groups is: 3.6\n"
     ]
    }
   ],
   "source": [
    "g1=[10, 20, 30, 40, 50]\n",
    "g2=[5,10,15, 20, 25]\n",
    "result=f_oneway(g1,g2)\n",
    "print(f'F test for given groups is: {result[0]}')"
   ]
  }
 ],
 "metadata": {
  "kernelspec": {
   "display_name": "Python 3",
   "language": "python",
   "name": "python3"
  },
  "language_info": {
   "codemirror_mode": {
    "name": "ipython",
    "version": 3
   },
   "file_extension": ".py",
   "mimetype": "text/x-python",
   "name": "python",
   "nbconvert_exporter": "python",
   "pygments_lexer": "ipython3",
   "version": "3.8.5"
  }
 },
 "nbformat": 4,
 "nbformat_minor": 4
}
